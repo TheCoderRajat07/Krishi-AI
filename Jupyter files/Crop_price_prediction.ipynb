{
 "cells": [
  {
   "cell_type": "markdown",
   "metadata": {},
   "source": [
    "# Crop Price Prediction \n",
    "## Step 1: Load and Inspect Data"
   ]
  },
  {
   "cell_type": "code",
   "execution_count": 1,
   "metadata": {},
   "outputs": [
    {
     "name": "stdout",
     "output_type": "stream",
     "text": [
      "Dataset shape: (49, 9)\n"
     ]
    },
    {
     "data": {
      "application/vnd.microsoft.datawrangler.viewer.v0+json": {
       "columns": [
        {
         "name": "index",
         "rawType": "int64",
         "type": "integer"
        },
        {
         "name": "State",
         "rawType": "object",
         "type": "string"
        },
        {
         "name": "Crop",
         "rawType": "object",
         "type": "string"
        },
        {
         "name": "CostCultivation",
         "rawType": "float64",
         "type": "float"
        },
        {
         "name": "CostCultivation2",
         "rawType": "float64",
         "type": "float"
        },
        {
         "name": "Production",
         "rawType": "float64",
         "type": "float"
        },
        {
         "name": "Yield",
         "rawType": "float64",
         "type": "float"
        },
        {
         "name": "Temperature",
         "rawType": "float64",
         "type": "float"
        },
        {
         "name": "RainFall Annual",
         "rawType": "float64",
         "type": "float"
        },
        {
         "name": "Price",
         "rawType": "float64",
         "type": "float"
        }
       ],
       "conversionMethod": "pd.DataFrame",
       "ref": "3b7f8915-1e32-4686-af59-160da569712e",
       "rows": [
        [
         "0",
         "Uttar Pradesh",
         "ARHAR",
         "9794.05",
         "9800.25",
         "1941.55",
         "9.83",
         "28.96",
         "3373.2",
         "19589.1"
        ],
        [
         "1",
         "Karnataka",
         "ARHAR",
         "10593.15",
         "10594.15",
         "2172.46",
         "7.47",
         "29.22",
         "3520.7",
         "21187.3"
        ],
        [
         "2",
         "Gujarat",
         "ARHAR",
         "13468.82",
         "13469.82",
         "1898.3",
         "9.59",
         "28.47",
         "2957.4",
         "26938.64"
        ],
        [
         "3",
         "Andhra Pradesh",
         "ARHAR",
         "17051.66",
         "17052.66",
         "3670.54",
         "6.42",
         "28.49",
         "3079.6",
         "34104.32"
        ],
        [
         "4",
         "Maharashtra",
         "ARHAR",
         "17130.55",
         "17131.55",
         "2775.8",
         "8.72",
         "28.3",
         "2566.7",
         "34262.1"
        ]
       ],
       "shape": {
        "columns": 9,
        "rows": 5
       }
      },
      "text/html": [
       "<div>\n",
       "<style scoped>\n",
       "    .dataframe tbody tr th:only-of-type {\n",
       "        vertical-align: middle;\n",
       "    }\n",
       "\n",
       "    .dataframe tbody tr th {\n",
       "        vertical-align: top;\n",
       "    }\n",
       "\n",
       "    .dataframe thead th {\n",
       "        text-align: right;\n",
       "    }\n",
       "</style>\n",
       "<table border=\"1\" class=\"dataframe\">\n",
       "  <thead>\n",
       "    <tr style=\"text-align: right;\">\n",
       "      <th></th>\n",
       "      <th>State</th>\n",
       "      <th>Crop</th>\n",
       "      <th>CostCultivation</th>\n",
       "      <th>CostCultivation2</th>\n",
       "      <th>Production</th>\n",
       "      <th>Yield</th>\n",
       "      <th>Temperature</th>\n",
       "      <th>RainFall Annual</th>\n",
       "      <th>Price</th>\n",
       "    </tr>\n",
       "  </thead>\n",
       "  <tbody>\n",
       "    <tr>\n",
       "      <th>0</th>\n",
       "      <td>Uttar Pradesh</td>\n",
       "      <td>ARHAR</td>\n",
       "      <td>9794.05</td>\n",
       "      <td>9800.25</td>\n",
       "      <td>1941.55</td>\n",
       "      <td>9.83</td>\n",
       "      <td>28.96</td>\n",
       "      <td>3373.2</td>\n",
       "      <td>19589.10</td>\n",
       "    </tr>\n",
       "    <tr>\n",
       "      <th>1</th>\n",
       "      <td>Karnataka</td>\n",
       "      <td>ARHAR</td>\n",
       "      <td>10593.15</td>\n",
       "      <td>10594.15</td>\n",
       "      <td>2172.46</td>\n",
       "      <td>7.47</td>\n",
       "      <td>29.22</td>\n",
       "      <td>3520.7</td>\n",
       "      <td>21187.30</td>\n",
       "    </tr>\n",
       "    <tr>\n",
       "      <th>2</th>\n",
       "      <td>Gujarat</td>\n",
       "      <td>ARHAR</td>\n",
       "      <td>13468.82</td>\n",
       "      <td>13469.82</td>\n",
       "      <td>1898.30</td>\n",
       "      <td>9.59</td>\n",
       "      <td>28.47</td>\n",
       "      <td>2957.4</td>\n",
       "      <td>26938.64</td>\n",
       "    </tr>\n",
       "    <tr>\n",
       "      <th>3</th>\n",
       "      <td>Andhra Pradesh</td>\n",
       "      <td>ARHAR</td>\n",
       "      <td>17051.66</td>\n",
       "      <td>17052.66</td>\n",
       "      <td>3670.54</td>\n",
       "      <td>6.42</td>\n",
       "      <td>28.49</td>\n",
       "      <td>3079.6</td>\n",
       "      <td>34104.32</td>\n",
       "    </tr>\n",
       "    <tr>\n",
       "      <th>4</th>\n",
       "      <td>Maharashtra</td>\n",
       "      <td>ARHAR</td>\n",
       "      <td>17130.55</td>\n",
       "      <td>17131.55</td>\n",
       "      <td>2775.80</td>\n",
       "      <td>8.72</td>\n",
       "      <td>28.30</td>\n",
       "      <td>2566.7</td>\n",
       "      <td>34262.10</td>\n",
       "    </tr>\n",
       "  </tbody>\n",
       "</table>\n",
       "</div>"
      ],
      "text/plain": [
       "            State   Crop  CostCultivation  CostCultivation2  Production  \\\n",
       "0   Uttar Pradesh  ARHAR          9794.05           9800.25     1941.55   \n",
       "1       Karnataka  ARHAR         10593.15          10594.15     2172.46   \n",
       "2         Gujarat  ARHAR         13468.82          13469.82     1898.30   \n",
       "3  Andhra Pradesh  ARHAR         17051.66          17052.66     3670.54   \n",
       "4     Maharashtra  ARHAR         17130.55          17131.55     2775.80   \n",
       "\n",
       "   Yield  Temperature  RainFall Annual     Price  \n",
       "0   9.83        28.96           3373.2  19589.10  \n",
       "1   7.47        29.22           3520.7  21187.30  \n",
       "2   9.59        28.47           2957.4  26938.64  \n",
       "3   6.42        28.49           3079.6  34104.32  \n",
       "4   8.72        28.30           2566.7  34262.10  "
      ]
     },
     "execution_count": 1,
     "metadata": {},
     "output_type": "execute_result"
    }
   ],
   "source": [
    "import pandas as pd\n",
    "import numpy as np\n",
    "\n",
    "# Load dataset\n",
    "df = pd.read_csv('Crop_Price.csv')\n",
    "\n",
    "# Initial inspection\n",
    "print(f'Dataset shape: {df.shape}')\n",
    "df.head()"
   ]
  },
  {
   "cell_type": "markdown",
   "metadata": {},
   "source": [
    "## Step 2: Data Cleaning\n",
    "### Handle missing values and inconsistencies"
   ]
  },
  {
   "cell_type": "code",
   "execution_count": 2,
   "metadata": {},
   "outputs": [],
   "source": [
    "# Remove empty rows\n",
    "df = df.dropna(how='all')\n",
    "\n",
    "# Standardize crop names\n",
    "df['Crop'] = df['Crop'].str.strip().str.upper()\n",
    "\n",
    "# Check duplicate columns\n",
    "if (df['CostCultivation'] == df['CostCultivation2']).all():\n",
    "    df = df.drop(columns=['CostCultivation2'])\n",
    "\n",
    "# Handle missing values\n",
    "num_cols = ['Production', 'Yield', 'Temperature', 'RainFall Annual']\n",
    "df[num_cols] = df[num_cols].fillna(df[num_cols].median())\n",
    "\n",
    "cat_cols = ['State', 'Crop']\n",
    "df[cat_cols] = df[cat_cols].fillna('Unknown')"
   ]
  },
  {
   "cell_type": "markdown",
   "metadata": {},
   "source": [
    "## Step 3: Feature Engineering\n",
    "### Create new features and transform existing ones"
   ]
  },
  {
   "cell_type": "code",
   "execution_count": 3,
   "metadata": {},
   "outputs": [],
   "source": [
    "# Create cost efficiency feature\n",
    "df['CostPerYield'] = df['CostCultivation'] / df['Yield']\n",
    "\n",
    "# Log transform skewed features\n",
    "df['LogPrice'] = np.log1p(df['Price'])\n",
    "\n",
    "# Temporal aggregation (example)\n",
    "state_avg = df.groupby('State')['Price'].mean().to_dict()\n",
    "df['StateAvgPrice'] = df['State'].map(state_avg)"
   ]
  },
  {
   "cell_type": "markdown",
   "metadata": {},
   "source": [
    "## Step 4: Feature Encoding\n",
    "### Convert categorical variables"
   ]
  },
  {
   "cell_type": "code",
   "execution_count": 4,
   "metadata": {},
   "outputs": [],
   "source": [
    "from sklearn.preprocessing import OneHotEncoder\n",
    "\n",
    "# One-hot encode categorical features\n",
    "encoder = OneHotEncoder(sparse_output=False, handle_unknown='ignore')\n",
    "encoded_cols = encoder.fit_transform(df[cat_cols])\n",
    "encoded_df = pd.DataFrame(encoded_cols, columns=encoder.get_feature_names_out(cat_cols))\n",
    "\n",
    "# Combine with numerical features\n",
    "processed_df = pd.concat([df.drop(columns=cat_cols), encoded_df], axis=1)"
   ]
  },
  {
   "cell_type": "markdown",
   "metadata": {},
   "source": [
    "## Step 5: Feature Scaling\n",
    "### Normalize numerical features"
   ]
  },
  {
   "cell_type": "code",
   "execution_count": 5,
   "metadata": {},
   "outputs": [],
   "source": [
    "from sklearn.preprocessing import StandardScaler\n",
    "from sklearn.model_selection import train_test_split\n",
    "\n",
    "# Split data\n",
    "X = processed_df.drop(columns=['Price', 'LogPrice'])\n",
    "y = processed_df['LogPrice']\n",
    "\n",
    "X_train, X_test, y_train, y_test = train_test_split(X, y, test_size=0.2, random_state=42)\n",
    "\n",
    "# Scale features\n",
    "scaler = StandardScaler()\n",
    "X_train_scaled = scaler.fit_transform(X_train)\n",
    "X_test_scaled = scaler.transform(X_test)"
   ]
  },
  {
   "cell_type": "markdown",
   "id": "fc86d99d",
   "metadata": {},
   "source": [
    "## Step 6: Train the model "
   ]
  },
  {
   "cell_type": "code",
   "execution_count": 7,
   "id": "2a44f9fc",
   "metadata": {},
   "outputs": [
    {
     "name": "stdout",
     "output_type": "stream",
     "text": [
      "XGBoost model has been fitted on the training data.\n"
     ]
    }
   ],
   "source": [
    "from xgboost import XGBRegressor\n",
    "\n",
    "# Initialize and fit the XGBoost regressor\n",
    "xgb_model = XGBRegressor(random_state=42)\n",
    "xgb_model.fit(X_train_scaled, y_train)\n",
    "\n",
    "print(\"XGBoost model has been fitted on the training data.\")"
   ]
  },
  {
   "cell_type": "markdown",
   "id": "f458518d",
   "metadata": {},
   "source": [
    "## Step 7: Example data to predict value"
   ]
  },
  {
   "cell_type": "code",
   "execution_count": 8,
   "id": "b0e03b27",
   "metadata": {},
   "outputs": [
    {
     "name": "stdout",
     "output_type": "stream",
     "text": [
      "Predicted LogPrice: 9.882299\n",
      "Predicted Price: 19579.695\n"
     ]
    }
   ],
   "source": [
    "# Create an example row (using values from row 0 as an example)\n",
    "example_dict = {\n",
    "    'CostCultivation': 9794.05,\n",
    "    'CostCultivation2': 9800.25,\n",
    "    'Production': 1941.55,\n",
    "    'Yield': 9.83,\n",
    "    'Temperature': 28.96,\n",
    "    'RainFall Annual': 3373.2,\n",
    "    'CostPerYield': 996.342828,\n",
    "    'StateAvgPrice': 31880.037143,\n",
    "    'State_Andhra Pradesh': 0.0,\n",
    "    'State_Bihar': 0.0,\n",
    "    'State_Gujarat': 0.0,\n",
    "    'State_Haryana': 0.0,\n",
    "    'State_Karnataka': 0.0,\n",
    "    'State_Madhya Pradesh': 0.0,\n",
    "    'State_Maharashtra': 0.0,\n",
    "    'State_Orissa': 0.0,\n",
    "    'State_Punjab': 0.0,\n",
    "    'State_Rajasthan': 0.0,\n",
    "    'State_Tamil Nadu': 0.0,\n",
    "    'State_Uttar Pradesh': 1.0,\n",
    "    'State_West Bengal': 0.0,\n",
    "    'Crop_ARHAR': 1.0,\n",
    "    'Crop_COTTON': 0.0,\n",
    "    'Crop_GRAM': 0.0,\n",
    "    'Crop_GROUNDNUT': 0.0,\n",
    "    'Crop_MAIZE': 0.0,\n",
    "    'Crop_MOONG': 0.0,\n",
    "    'Crop_MUSTARD': 0.0,\n",
    "    'Crop_PADDY': 0.0,\n",
    "    'Crop_SUGARCANE': 0.0,\n",
    "    'Crop_WHEAT': 0.0\n",
    "}\n",
    "\n",
    "# Ensure the column order matches the training X columns\n",
    "X_columns = ['CostCultivation', 'CostCultivation2', 'Production', 'Yield', 'Temperature', \n",
    "             'RainFall Annual', 'CostPerYield', 'StateAvgPrice', 'State_Andhra Pradesh', \n",
    "             'State_Bihar', 'State_Gujarat', 'State_Haryana', 'State_Karnataka', \n",
    "             'State_Madhya Pradesh', 'State_Maharashtra', 'State_Orissa', 'State_Punjab', \n",
    "             'State_Rajasthan', 'State_Tamil Nadu', 'State_Uttar Pradesh', 'State_West Bengal', \n",
    "             'Crop_ARHAR', 'Crop_COTTON', 'Crop_GRAM', 'Crop_GROUNDNUT', 'Crop_MAIZE', \n",
    "             'Crop_MOONG', 'Crop_MUSTARD', 'Crop_PADDY', 'Crop_SUGARCANE', 'Crop_WHEAT']\n",
    "\n",
    "example_row = pd.DataFrame([example_dict], columns=X_columns)\n",
    "\n",
    "# Scale the features using the previously fitted scaler\n",
    "example_row_scaled = scaler.transform(example_row)\n",
    "\n",
    "# Predict using the trained xgb_model\n",
    "pred_logprice = xgb_model.predict(example_row_scaled)\n",
    "\n",
    "# Optionally convert back from log price using np.expm1\n",
    "pred_price = np.expm1(pred_logprice)\n",
    "\n",
    "print(\"Predicted LogPrice:\", pred_logprice[0])\n",
    "print(\"Predicted Price:\", pred_price[0])"
   ]
  },
  {
   "cell_type": "code",
   "execution_count": 9,
   "id": "b4ad02fd",
   "metadata": {},
   "outputs": [
    {
     "name": "stdout",
     "output_type": "stream",
     "text": [
      "Model R^2 Accuracy: 0.9845567375789991\n"
     ]
    }
   ],
   "source": [
    "accuracy = xgb_model.score(X_test_scaled, y_test)\n",
    "print(\"Model R^2 Accuracy:\", accuracy)"
   ]
  },
  {
   "cell_type": "markdown",
   "id": "84eaae19",
   "metadata": {},
   "source": [
    "## Saving the model"
   ]
  },
  {
   "cell_type": "code",
   "execution_count": 11,
   "id": "52b0f11c",
   "metadata": {},
   "outputs": [],
   "source": [
    "import pickle\n",
    "\n",
    "with open('Crop_price_prediction_model.pkl', 'wb') as f:\n",
    "    pickle.dump(xgb_model, f)"
   ]
  },
  {
   "cell_type": "code",
   "execution_count": null,
   "id": "37a4cf98",
   "metadata": {},
   "outputs": [],
   "source": []
  }
 ],
 "metadata": {
  "kernelspec": {
   "display_name": "Python 3",
   "language": "python",
   "name": "python3"
  },
  "language_info": {
   "codemirror_mode": {
    "name": "ipython",
    "version": 3
   },
   "file_extension": ".py",
   "mimetype": "text/x-python",
   "name": "python",
   "nbconvert_exporter": "python",
   "pygments_lexer": "ipython3",
   "version": "3.10.0"
  }
 },
 "nbformat": 4,
 "nbformat_minor": 5
}
